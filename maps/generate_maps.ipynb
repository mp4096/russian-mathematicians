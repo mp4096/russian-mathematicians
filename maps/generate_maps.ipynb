{
 "cells": [
  {
   "cell_type": "code",
   "execution_count": 1,
   "metadata": {},
   "outputs": [],
   "source": [
    "import folium\n",
    "import os\n",
    "from selenium import webdriver\n",
    "import time"
   ]
  },
  {
   "cell_type": "code",
   "execution_count": 2,
   "metadata": {},
   "outputs": [],
   "source": [
    "def save_as_image(filename):\n",
    "    delay = 5.0\n",
    "    \n",
    "    cwd = os.getcwd()\n",
    "    m.save(f\"{filename:s}.html\")\n",
    "\n",
    "    browser = webdriver.Firefox()\n",
    "    browser.get(f\"file://{cwd:s}/{filename:s}.html\")\n",
    "    time.sleep(delay)\n",
    "\n",
    "    browser.save_screenshot(f\"{filename:s}.png\")\n",
    "    browser.quit()"
   ]
  },
  {
   "cell_type": "code",
   "execution_count": 3,
   "metadata": {
    "scrolled": false
   },
   "outputs": [],
   "source": [
    "m = folium.Map(\n",
    "    location=[51.4398929,22.422605], \n",
    "    zoom_start=4.6,\n",
    "    tiles=\"Mapbox Control Room\",\n",
    "    )\n",
    "\n",
    "folium.CircleMarker(\n",
    "    location=[59.933333, 30.266667],\n",
    "    radius=15,\n",
    "    color=\"#FFF\",\n",
    "    fill=True,\n",
    "    fill_color=\"#FFF\",\n",
    ").add_to(m)\n",
    "\n",
    "save_as_image(\"st_petersburg_location\")"
   ]
  },
  {
   "cell_type": "code",
   "execution_count": 4,
   "metadata": {},
   "outputs": [],
   "source": [
    "m = folium.Map(\n",
    "    location=[51.4398929,22.422605], \n",
    "    zoom_start=4.6,\n",
    "    tiles=\"Mapbox Control Room\",\n",
    "    )\n",
    "\n",
    "folium.CircleMarker(\n",
    "    location=[59.933333, 30.266667],\n",
    "    radius=15,\n",
    "    color=\"#FFF\",\n",
    "    fill=True,\n",
    "    fill_color=\"#FFF\",\n",
    ").add_to(m)\n",
    "\n",
    "folium.CircleMarker(\n",
    "    location=[55.153953,36.7885565],\n",
    "    radius=15,\n",
    "    color=\"#FF0\",\n",
    "    fill=True,\n",
    "    fill_color=\"#FF0\",\n",
    ").add_to(m)\n",
    "\n",
    "save_as_image(\"akatovo\")"
   ]
  }
 ],
 "metadata": {
  "kernelspec": {
   "display_name": "Python 3",
   "language": "python",
   "name": "python3"
  },
  "language_info": {
   "codemirror_mode": {
    "name": "ipython",
    "version": 3
   },
   "file_extension": ".py",
   "mimetype": "text/x-python",
   "name": "python",
   "nbconvert_exporter": "python",
   "pygments_lexer": "ipython3",
   "version": "3.6.3"
  }
 },
 "nbformat": 4,
 "nbformat_minor": 2
}
